{
 "cells": [
  {
   "cell_type": "markdown",
   "id": "demographic-complement",
   "metadata": {},
   "source": [
    "# COVID19 Vaccination in Czechia"
   ]
  },
  {
   "cell_type": "markdown",
   "id": "graduate-pearl",
   "metadata": {},
   "source": [
    "## Download datasets"
   ]
  },
  {
   "cell_type": "code",
   "execution_count": 11,
   "id": "durable-pierre",
   "metadata": {},
   "outputs": [],
   "source": [
    "import requests\n",
    "\n",
    "DATASET_FILENAME = \"vaccination.csv\"\n",
    "by_region_url = \"https://onemocneni-aktualne.mzcr.cz/api/v2/covid-19/ockovani.csv\"\n",
    "by_region_req = requests.get(by_region_url)\n",
    "with open(DATASET_FILENAME, \"wb\") as file:\n",
    "    file.write(by_region_req.content)"
   ]
  },
  {
   "cell_type": "markdown",
   "id": "cubic-collector",
   "metadata": {},
   "source": [
    "## Explore dataset"
   ]
  },
  {
   "cell_type": "code",
   "execution_count": 12,
   "id": "loaded-queensland",
   "metadata": {},
   "outputs": [
    {
     "data": {
      "text/html": [
       "<div>\n",
       "<style scoped>\n",
       "    .dataframe tbody tr th:only-of-type {\n",
       "        vertical-align: middle;\n",
       "    }\n",
       "\n",
       "    .dataframe tbody tr th {\n",
       "        vertical-align: top;\n",
       "    }\n",
       "\n",
       "    .dataframe thead th {\n",
       "        text-align: right;\n",
       "    }\n",
       "</style>\n",
       "<table border=\"1\" class=\"dataframe\">\n",
       "  <thead>\n",
       "    <tr style=\"text-align: right;\">\n",
       "      <th></th>\n",
       "      <th>datum</th>\n",
       "      <th>vakcina</th>\n",
       "      <th>kraj_nuts_kod</th>\n",
       "      <th>kraj_nazev</th>\n",
       "      <th>vekova_skupina</th>\n",
       "      <th>prvnich_davek</th>\n",
       "      <th>druhych_davek</th>\n",
       "      <th>celkem_davek</th>\n",
       "    </tr>\n",
       "  </thead>\n",
       "  <tbody>\n",
       "    <tr>\n",
       "      <th>0</th>\n",
       "      <td>2020-12-27</td>\n",
       "      <td>Comirnaty</td>\n",
       "      <td>CZ010</td>\n",
       "      <td>Hlavní město Praha</td>\n",
       "      <td>18-24</td>\n",
       "      <td>48</td>\n",
       "      <td>0</td>\n",
       "      <td>48</td>\n",
       "    </tr>\n",
       "    <tr>\n",
       "      <th>1</th>\n",
       "      <td>2020-12-27</td>\n",
       "      <td>Comirnaty</td>\n",
       "      <td>CZ010</td>\n",
       "      <td>Hlavní město Praha</td>\n",
       "      <td>25-29</td>\n",
       "      <td>113</td>\n",
       "      <td>0</td>\n",
       "      <td>113</td>\n",
       "    </tr>\n",
       "    <tr>\n",
       "      <th>2</th>\n",
       "      <td>2020-12-27</td>\n",
       "      <td>Comirnaty</td>\n",
       "      <td>CZ010</td>\n",
       "      <td>Hlavní město Praha</td>\n",
       "      <td>30-34</td>\n",
       "      <td>103</td>\n",
       "      <td>0</td>\n",
       "      <td>103</td>\n",
       "    </tr>\n",
       "    <tr>\n",
       "      <th>3</th>\n",
       "      <td>2020-12-27</td>\n",
       "      <td>Comirnaty</td>\n",
       "      <td>CZ010</td>\n",
       "      <td>Hlavní město Praha</td>\n",
       "      <td>35-39</td>\n",
       "      <td>115</td>\n",
       "      <td>0</td>\n",
       "      <td>115</td>\n",
       "    </tr>\n",
       "    <tr>\n",
       "      <th>4</th>\n",
       "      <td>2020-12-27</td>\n",
       "      <td>Comirnaty</td>\n",
       "      <td>CZ010</td>\n",
       "      <td>Hlavní město Praha</td>\n",
       "      <td>40-44</td>\n",
       "      <td>173</td>\n",
       "      <td>0</td>\n",
       "      <td>173</td>\n",
       "    </tr>\n",
       "  </tbody>\n",
       "</table>\n",
       "</div>"
      ],
      "text/plain": [
       "        datum    vakcina kraj_nuts_kod          kraj_nazev vekova_skupina  \\\n",
       "0  2020-12-27  Comirnaty         CZ010  Hlavní město Praha          18-24   \n",
       "1  2020-12-27  Comirnaty         CZ010  Hlavní město Praha          25-29   \n",
       "2  2020-12-27  Comirnaty         CZ010  Hlavní město Praha          30-34   \n",
       "3  2020-12-27  Comirnaty         CZ010  Hlavní město Praha          35-39   \n",
       "4  2020-12-27  Comirnaty         CZ010  Hlavní město Praha          40-44   \n",
       "\n",
       "   prvnich_davek  druhych_davek  celkem_davek  \n",
       "0             48              0            48  \n",
       "1            113              0           113  \n",
       "2            103              0           103  \n",
       "3            115              0           115  \n",
       "4            173              0           173  "
      ]
     },
     "execution_count": 12,
     "metadata": {},
     "output_type": "execute_result"
    }
   ],
   "source": [
    "import pandas as pd\n",
    "\n",
    "vacc = pd.read_csv(DATASET_FILENAME)\n",
    "vacc.head()"
   ]
  },
  {
   "cell_type": "code",
   "execution_count": 14,
   "id": "variable-peace",
   "metadata": {},
   "outputs": [
    {
     "name": "stdout",
     "output_type": "stream",
     "text": [
      "Total vaccinations (first and second dose): 862670\n",
      "Number of people with at least first dose: 594930\n",
      "Number of people with two doses: 267740\n"
     ]
    }
   ],
   "source": [
    "total_vaccinations = vacc['celkem_davek'].sum()\n",
    "first_doses = vacc['prvnich_davek'].sum()\n",
    "second_doses = vacc['druhych_davek'].sum()\n",
    "print(\"Total vaccinations (first and second dose):\", total_vaccinations)\n",
    "print(\"Number of people with at least first dose:\", first_doses)\n",
    "print(\"Number of people with two doses:\", second_doses)"
   ]
  },
  {
   "cell_type": "markdown",
   "id": "physical-conflict",
   "metadata": {},
   "source": [
    "### How many people were vaccinated in Czechia?"
   ]
  },
  {
   "cell_type": "code",
   "execution_count": 15,
   "id": "defined-sector",
   "metadata": {},
   "outputs": [],
   "source": [
    "total_population = 10_707_839 # (Sep 2020)\n",
    "unvaccinated = total_population - first_doses"
   ]
  },
  {
   "cell_type": "code",
   "execution_count": 57,
   "id": "specialized-messenger",
   "metadata": {},
   "outputs": [],
   "source": [
    "import matplotlib.pyplot as plt\n",
    "\n",
    "def pie_chart(labels, sizes, title):\n",
    "    fig1, ax1 = plt.subplots()\n",
    "    ax1.pie(sizes, labels=labels, autopct='%1.1f%%', startangle=180)\n",
    "    ax1.axis('equal')  # Equal aspect ratio ensures that pie is drawn as a circle.\n",
    "    plt.title(title)\n",
    "    plt.show()\n",
    "    return fig1"
   ]
  },
  {
   "cell_type": "code",
   "execution_count": 61,
   "id": "relevant-constitutional",
   "metadata": {},
   "outputs": [
    {
     "data": {
      "image/png": "[encoded data removed]",
      "text/plain": [
       "<Figure size 432x288 with 1 Axes>"
      ]
     },
     "metadata": {},
     "output_type": "display_data"
    }
   ],
   "source": [
    "vacc_ratio_labels = ['Vaccinated', 'Unvaccinated']\n",
    "vacc_ratio_sizes = [first_doses, unvaccinated]\n",
    "vacc_ratio_title = \"How many people are vaccinated (at least one dose)?\"\n",
    "vacc_ratio_fig = pie_chart(vacc_ratio_labels, vacc_ratio_sizes, vacc_ratio_title)\n",
    "vacc_ratio_fig.savefig(\"vacc_ratio.png\")"
   ]
  },
  {
   "cell_type": "markdown",
   "id": "inner-sellers",
   "metadata": {},
   "source": [
    "### What vaccines are used?"
   ]
  },
  {
   "cell_type": "code",
   "execution_count": 62,
   "id": "found-pocket",
   "metadata": {},
   "outputs": [
    {
     "data": {
      "image/png": "[encoded data removed]",
      "text/plain": [
       "<Figure size 432x288 with 1 Axes>"
      ]
     },
     "metadata": {},
     "output_type": "display_data"
    }
   ],
   "source": [
    "grouped_by_vaccine = vacc.groupby(\"vakcina\").sum()\n",
    "vacc_prod_labels = [\"AstraZeneca\", \"Moderna\", \"Pfizer\"]\n",
    "vacc_prod_sizes = grouped_by_vaccine['prvnich_davek'].tolist()\n",
    "vacc_prod_title = \"What vacciens are used (first dose)?\"\n",
    "vacc_prod_fig = pie_chart(vacc_prod_labels, vacc_prod_sizes, vacc_prod_title)\n",
    "vacc_prod_fig.savefig(\"vacc_prod.png\")"
   ]
  },
  {
   "cell_type": "markdown",
   "id": "otherwise-mercury",
   "metadata": {},
   "source": [
    "### What age groups are vaccinated?"
   ]
  },
  {
   "cell_type": "code",
   "execution_count": 63,
   "id": "advisory-albany",
   "metadata": {},
   "outputs": [
    {
     "data": {
      "image/png": "[encoded data removed]",
      "text/plain": [
       "<Figure size 1080x360 with 1 Axes>"
      ]
     },
     "metadata": {
      "needs_background": "light"
     },
     "output_type": "display_data"
    }
   ],
   "source": [
    "grouped_by_age = vacc.groupby(\"vekova_skupina\").sum()\n",
    "vacc_age_labels = grouped_by_age['prvnich_davek'].index\n",
    "vacc_age_sums = grouped_by_age['prvnich_davek'].tolist()\n",
    "vacc_age_fig = plt.figure(figsize=(15, 5))\n",
    "plt.bar(vacc_age_labels, vacc_age_sums)\n",
    "plt.title(\"What age groups are vaccinated?\")\n",
    "vacc_age_fig.savefig(\"age_groups.png\")"
   ]
  },
  {
   "cell_type": "code",
   "execution_count": null,
   "id": "american-richmond",
   "metadata": {},
   "outputs": [],
   "source": []
  }
 ],
 "metadata": {
  "kernelspec": {
   "display_name": "Python 3",
   "language": "python",
   "name": "python3"
  },
  "language_info": {
   "codemirror_mode": {
    "name": "ipython",
    "version": 3
   },
   "file_extension": ".py",
   "mimetype": "text/x-python",
   "name": "python",
   "nbconvert_exporter": "python",
   "pygments_lexer": "ipython3",
   "version": "3.8.5"
  }
 },
 "nbformat": 4,
 "nbformat_minor": 5
}
